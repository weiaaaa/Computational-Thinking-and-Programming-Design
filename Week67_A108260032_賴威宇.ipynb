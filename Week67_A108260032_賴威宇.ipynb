{
  "nbformat": 4,
  "nbformat_minor": 0,
  "metadata": {
    "colab": {
      "name": "Week67-A108260032-賴威宇.ipynb",
      "provenance": []
    },
    "kernelspec": {
      "name": "python3",
      "display_name": "Python 3"
    }
  },
  "cells": [
    {
      "cell_type": "code",
      "metadata": {
        "id": "SwW702IiPR81",
        "colab_type": "code",
        "outputId": "a93cbd8a-b651-4648-bef2-7d0f4043509d",
        "colab": {
          "base_uri": "https://localhost:8080/",
          "height": 102
        }
      },
      "source": [
        "player=\"Ron Harper\"\n",
        "player_list=[\"Ron Harper\",\"Michael Jordan\",\"Scottie Pippen\",\"Dennis Rodman\",\"Luc Longley\"]\n",
        "player_tuple=tuple(player_list)\n",
        "player_dict={\n",
        "    \"PG\":\"Ron Harper\",\n",
        "    \"SG\":\"Michael Jordan\",\n",
        "    \"SF\":\"Scottie Pippen\",\n",
        "    \"PF\":\"Dennis Rodman\",\n",
        "    \"C\":\"Luc Longley\"\n",
        "}\n",
        "player_set=set(player_list)\n",
        "\n",
        "print(type(player))\n",
        "print(type(player_list))\n",
        "print(type(player_tuple))\n",
        "print(type(player_dict))\n",
        "print(type(player_set))"
      ],
      "execution_count": 0,
      "outputs": [
        {
          "output_type": "stream",
          "text": [
            "<class 'str'>\n",
            "<class 'list'>\n",
            "<class 'tuple'>\n",
            "<class 'dict'>\n",
            "<class 'set'>\n"
          ],
          "name": "stdout"
        }
      ]
    },
    {
      "cell_type": "code",
      "metadata": {
        "id": "-PYHjzAHPqfY",
        "colab_type": "code",
        "outputId": "1cd7e681-1d7b-4450-d104-78e95bdb506c",
        "colab": {
          "base_uri": "https://localhost:8080/",
          "height": 34
        }
      },
      "source": [
        "s1='春眠不覺曉，處處聞啼鳥。'\n",
        "print(s1)"
      ],
      "execution_count": 0,
      "outputs": [
        {
          "output_type": "stream",
          "text": [
            "春眠不覺曉，處處聞啼鳥。\n"
          ],
          "name": "stdout"
        }
      ]
    },
    {
      "cell_type": "code",
      "metadata": {
        "id": "uBLBFQZAWudQ",
        "colab_type": "code",
        "outputId": "e7d2d845-65ca-46a9-d84a-2ff9edc1a937",
        "colab": {
          "base_uri": "https://localhost:8080/",
          "height": 34
        }
      },
      "source": [
        "s2=\"夜來風雨聲，花落知多少。\"\n",
        "print(s2)"
      ],
      "execution_count": 0,
      "outputs": [
        {
          "output_type": "stream",
          "text": [
            "夜來風雨聲，花落知多少。\n"
          ],
          "name": "stdout"
        }
      ]
    },
    {
      "cell_type": "code",
      "metadata": {
        "id": "jwYxtRQnW9vq",
        "colab_type": "code",
        "outputId": "6ae794ec-73b1-444f-b7fc-68ccc57d9377",
        "colab": {
          "base_uri": "https://localhost:8080/",
          "height": 51
        }
      },
      "source": [
        "s3='作者\"孟浩然\"詩名\"春曉\"'\n",
        "print(s3)\n",
        "\n",
        "s4=\"作者'孟浩然'詩名'春曉'\"\n",
        "print(s4)"
      ],
      "execution_count": 0,
      "outputs": [
        {
          "output_type": "stream",
          "text": [
            "作者\"孟浩然\"詩名\"春曉\"\n",
            "作者'孟浩然'詩名'春曉'\n"
          ],
          "name": "stdout"
        }
      ]
    },
    {
      "cell_type": "code",
      "metadata": {
        "id": "P8VvlKhcXYy7",
        "colab_type": "code",
        "outputId": "56120c68-aa10-45ba-8629-1b5664c5ad2f",
        "colab": {
          "base_uri": "https://localhost:8080/",
          "height": 85
        }
      },
      "source": [
        "s5='''   春眠不覺曉，處處聞啼鳥。\n",
        "   夜來風雨聲，花落知多少。\n",
        "   作者\"孟浩然\"詩名\"春曉\"\n",
        "'''\n",
        "print(s5)"
      ],
      "execution_count": 0,
      "outputs": [
        {
          "output_type": "stream",
          "text": [
            "   春眠不覺曉，處處聞啼鳥。\n",
            "   夜來風雨聲，花落知多少。\n",
            "   作者\"孟浩然\"詩名\"春曉\"\n",
            "\n"
          ],
          "name": "stdout"
        }
      ]
    },
    {
      "cell_type": "code",
      "metadata": {
        "id": "dmIZ0fjzX6gN",
        "colab_type": "code",
        "outputId": "01562e8e-010e-4d9e-dc53-fd81c4845a70",
        "colab": {
          "base_uri": "https://localhost:8080/",
          "height": 34
        }
      },
      "source": [
        "s1=\"123\"\n",
        "s2=\"456\"\n",
        "\n",
        "s3=s1+s2\n",
        "print(s3)"
      ],
      "execution_count": 0,
      "outputs": [
        {
          "output_type": "stream",
          "text": [
            "123456\n"
          ],
          "name": "stdout"
        }
      ]
    },
    {
      "cell_type": "code",
      "metadata": {
        "id": "5TLcxLLXYHxf",
        "colab_type": "code",
        "outputId": "4c16eef4-fc5b-4b7f-90c0-33b600e186a1",
        "colab": {
          "base_uri": "https://localhost:8080/",
          "height": 34
        }
      },
      "source": [
        "s4=s1*2\n",
        "print(s4)"
      ],
      "execution_count": 0,
      "outputs": [
        {
          "output_type": "stream",
          "text": [
            "123123\n"
          ],
          "name": "stdout"
        }
      ]
    },
    {
      "cell_type": "code",
      "metadata": {
        "id": "KuKGW2dCYLq0",
        "colab_type": "code",
        "outputId": "845268eb-30de-4c3f-812f-5239a49deeba",
        "colab": {
          "base_uri": "https://localhost:8080/",
          "height": 68
        }
      },
      "source": [
        "s5='春眠不覺曉，處處聞啼鳥。\\n\\\n",
        "夜來風雨聲，花落知多少。\\n\\\n",
        "\\t作者\"孟浩然\"詩名\"春曉\"'\n",
        "print(s5)"
      ],
      "execution_count": 0,
      "outputs": [
        {
          "output_type": "stream",
          "text": [
            "春眠不覺曉，處處聞啼鳥。\n",
            "夜來風雨聲，花落知多少。\n",
            "\t作者\"孟浩然\"詩名\"春曉\"\n"
          ],
          "name": "stdout"
        }
      ]
    },
    {
      "cell_type": "code",
      "metadata": {
        "id": "jz9eg90gYkAq",
        "colab_type": "code",
        "outputId": "02df557e-a63e-4a52-86a0-9929f39c6703",
        "colab": {
          "base_uri": "https://localhost:8080/",
          "height": 85
        }
      },
      "source": [
        "s='0123456789'\n",
        "print(s[0])\n",
        "print('s[1]=',s[1])\n",
        "print(s[-1])\n",
        "print('s[-2]=',s[-2])"
      ],
      "execution_count": 0,
      "outputs": [
        {
          "output_type": "stream",
          "text": [
            "0\n",
            "s[1]= 1\n",
            "9\n",
            "s[-2]= 8\n"
          ],
          "name": "stdout"
        }
      ]
    },
    {
      "cell_type": "code",
      "metadata": {
        "id": "pkl274VAY-gN",
        "colab_type": "code",
        "outputId": "6e4c4a04-5424-4695-da20-222d84f2a341",
        "colab": {
          "base_uri": "https://localhost:8080/",
          "height": 204
        }
      },
      "source": [
        "s='0123456789'\n",
        "\n",
        "print('s=',s,'s[:]=',s[:])\n",
        "print('s=',s,'s[5:]=',s[5:])\n",
        "print('s=',s,'s[-2:]=',s[-2:])\n",
        "print('s=',s,'s[:5]=',s[:5])\n",
        "print('s=',s,'s[:-2]=',s[:-2])\n",
        "      \n",
        "print('s=',s,'s[7:9]=',s[7:9])\n",
        "print('s=',s,'s[-4:-1]=',s[-4:-1])\n",
        "print('s=',s,'s[5:-2]=',s[5:-2])\n",
        "print('s=',s,'s[2:10:2]=',s[2:10:2])\n",
        "print('s=',s,'s[::-1]=',s[::-1])\n",
        "print('s=',s,'s[-1::-1]=',s[-1::-1])"
      ],
      "execution_count": 0,
      "outputs": [
        {
          "output_type": "stream",
          "text": [
            "s= 0123456789 s[:]= 0123456789\n",
            "s= 0123456789 s[5:]= 56789\n",
            "s= 0123456789 s[-2:]= 89\n",
            "s= 0123456789 s[:5]= 01234\n",
            "s= 0123456789 s[:-2]= 01234567\n",
            "s= 0123456789 s[7:9]= 78\n",
            "s= 0123456789 s[-4:-1]= 678\n",
            "s= 0123456789 s[5:-2]= 567\n",
            "s= 0123456789 s[2:10:2]= 2468\n",
            "s= 0123456789 s[::-1]= 9876543210\n",
            "s= 0123456789 s[-1::-1]= 9876543210\n"
          ],
          "name": "stdout"
        }
      ]
    },
    {
      "cell_type": "code",
      "metadata": {
        "id": "ph9tUu6ebCzg",
        "colab_type": "code",
        "outputId": "d4f7ce27-6a77-415e-a4af-33c4ba5bc9e2",
        "colab": {
          "base_uri": "https://localhost:8080/",
          "height": 34
        }
      },
      "source": [
        "s='春眠不覺曉，處處聞啼鳥，夜來風雨聲，花落知多少。'\n",
        "\n",
        "\n",
        "list1=s.split('，')\n",
        "print(list1)"
      ],
      "execution_count": 0,
      "outputs": [
        {
          "output_type": "stream",
          "text": [
            "['春眠不覺曉', '處處聞啼鳥', '夜來風雨聲', '花落知多少。']\n"
          ],
          "name": "stdout"
        }
      ]
    },
    {
      "cell_type": "code",
      "metadata": {
        "id": "N0_j525dbhUF",
        "colab_type": "code",
        "outputId": "b9a6ef66-afb3-4e02-a313-6096a659afae",
        "colab": {
          "base_uri": "https://localhost:8080/",
          "height": 34
        }
      },
      "source": [
        "list1=['春眠不覺曉', '處處聞啼鳥', '夜來風雨聲', '花落知多少。']\n",
        "\n",
        "\n",
        "s2='，'.join(list1)\n",
        "print(s2)"
      ],
      "execution_count": 0,
      "outputs": [
        {
          "output_type": "stream",
          "text": [
            "春眠不覺曉，處處聞啼鳥，夜來風雨聲，花落知多少。\n"
          ],
          "name": "stdout"
        }
      ]
    },
    {
      "cell_type": "code",
      "metadata": {
        "id": "derIKYkNbuxg",
        "colab_type": "code",
        "outputId": "4bf12a12-033e-47dd-e489-227125025be2",
        "colab": {
          "base_uri": "https://localhost:8080/",
          "height": 34
        }
      },
      "source": [
        "s1='春眠不覺曉，處處聞啼鳥，夜來風雨聲，花落知多少。'\n",
        "\n",
        "\n",
        "print(s1.find('花落'))"
      ],
      "execution_count": 0,
      "outputs": [
        {
          "output_type": "stream",
          "text": [
            "18\n"
          ],
          "name": "stdout"
        }
      ]
    },
    {
      "cell_type": "code",
      "metadata": {
        "id": "05fwQ0KJcGzM",
        "colab_type": "code",
        "outputId": "f6c4a0e9-2080-4ffd-e613-77add7f96d7c",
        "colab": {
          "base_uri": "https://localhost:8080/",
          "height": 34
        }
      },
      "source": [
        "s1='春眠不覺曉，處處聞啼鳥，夜來風雨聲，花落知多少。'\n",
        "\n",
        "print(s1.count('處'))"
      ],
      "execution_count": 0,
      "outputs": [
        {
          "output_type": "stream",
          "text": [
            "2\n"
          ],
          "name": "stdout"
        }
      ]
    },
    {
      "cell_type": "code",
      "metadata": {
        "id": "xlU4698NcRrB",
        "colab_type": "code",
        "outputId": "3d66340e-7bdd-4fa8-b72e-75d07a15c3e0",
        "colab": {
          "base_uri": "https://localhost:8080/",
          "height": 34
        }
      },
      "source": [
        "s1='春眠不覺曉，處處聞啼鳥，夜來風雨聲，花落知多少。'\n",
        "\n",
        "\n",
        "s3=s1.replace('春','冬')\n",
        "print(s3)"
      ],
      "execution_count": 0,
      "outputs": [
        {
          "output_type": "stream",
          "text": [
            "冬眠不覺曉，處處聞啼鳥，夜來風雨聲，花落知多少。\n"
          ],
          "name": "stdout"
        }
      ]
    },
    {
      "cell_type": "code",
      "metadata": {
        "id": "Kj0HerWxcfbD",
        "colab_type": "code",
        "outputId": "caa03fa0-bfb0-4222-d77b-846bb18749ec",
        "colab": {
          "base_uri": "https://localhost:8080/",
          "height": 34
        }
      },
      "source": [
        "s1='An apple a day.'\n",
        "\n",
        "print(s1.capitalize())"
      ],
      "execution_count": 0,
      "outputs": [
        {
          "output_type": "stream",
          "text": [
            "An apple a day.\n"
          ],
          "name": "stdout"
        }
      ]
    },
    {
      "cell_type": "code",
      "metadata": {
        "id": "vebr3nVNcyrZ",
        "colab_type": "code",
        "outputId": "90556d97-3f38-4c31-af2a-4c6fa45a0cbe",
        "colab": {
          "base_uri": "https://localhost:8080/",
          "height": 34
        }
      },
      "source": [
        "s1='An apple a day.'\n",
        "\n",
        "print(s1.swapcase())"
      ],
      "execution_count": 0,
      "outputs": [
        {
          "output_type": "stream",
          "text": [
            "aN APPLE A DAY.\n"
          ],
          "name": "stdout"
        }
      ]
    },
    {
      "cell_type": "code",
      "metadata": {
        "id": "s-_EKRxMc7T8",
        "colab_type": "code",
        "outputId": "cc4eaca7-4c80-40cc-c626-fbd0e6a59f50",
        "colab": {
          "base_uri": "https://localhost:8080/",
          "height": 34
        }
      },
      "source": [
        "s1='An apple a day.'\n",
        "\n",
        "print(s1.upper())"
      ],
      "execution_count": 0,
      "outputs": [
        {
          "output_type": "stream",
          "text": [
            "AN APPLE A DAY.\n"
          ],
          "name": "stdout"
        }
      ]
    },
    {
      "cell_type": "code",
      "metadata": {
        "id": "QFKTUHfPdDv5",
        "colab_type": "code",
        "outputId": "0b05a479-4020-4002-e7d6-4f602d0c4e11",
        "colab": {
          "base_uri": "https://localhost:8080/",
          "height": 34
        }
      },
      "source": [
        "s1='An apple a day.'\n",
        "\n",
        "print(s1.lower())"
      ],
      "execution_count": 0,
      "outputs": [
        {
          "output_type": "stream",
          "text": [
            "an apple a day.\n"
          ],
          "name": "stdout"
        }
      ]
    },
    {
      "cell_type": "code",
      "metadata": {
        "id": "3G7vWBkedKu3",
        "colab_type": "code",
        "outputId": "6eb5e14c-d93e-442e-b85d-64bed9423368",
        "colab": {
          "base_uri": "https://localhost:8080/",
          "height": 85
        }
      },
      "source": [
        "t1=()\n",
        "print(t1)\n",
        "\n",
        "t2=('z',)\n",
        "print(t2)\n",
        "\n",
        "t3=(1,2,3)\n",
        "print(t3)\n",
        "\n",
        "t4=(1,2,3,4)\n",
        "t5=(t4,5,6)\n",
        "print(t5)"
      ],
      "execution_count": 0,
      "outputs": [
        {
          "output_type": "stream",
          "text": [
            "()\n",
            "('z',)\n",
            "(1, 2, 3)\n",
            "((1, 2, 3, 4), 5, 6)\n"
          ],
          "name": "stdout"
        }
      ]
    },
    {
      "cell_type": "code",
      "metadata": {
        "id": "3aFN_Hd5diPk",
        "colab_type": "code",
        "outputId": "24ef76dc-d638-48cc-deb4-8fc22ea7be75",
        "colab": {
          "base_uri": "https://localhost:8080/",
          "height": 34
        }
      },
      "source": [
        "list1=[1,2,3,4]\n",
        "t6=tuple(list1)\n",
        "print(t6)"
      ],
      "execution_count": 0,
      "outputs": [
        {
          "output_type": "stream",
          "text": [
            "(1, 2, 3, 4)\n"
          ],
          "name": "stdout"
        }
      ]
    },
    {
      "cell_type": "code",
      "metadata": {
        "id": "sKq1dutRds5m",
        "colab_type": "code",
        "outputId": "15135507-bb28-4a9a-bc51-fafb24a2d7ef",
        "colab": {
          "base_uri": "https://localhost:8080/",
          "height": 68
        }
      },
      "source": [
        "t1=(1,2,3,4)\n",
        "t2=(5,6,t2)\n",
        "\n",
        "print(len(t2))\n",
        "print(t2[0])\n",
        "print(t2[2][0])"
      ],
      "execution_count": 0,
      "outputs": [
        {
          "output_type": "stream",
          "text": [
            "3\n",
            "5\n",
            "z\n"
          ],
          "name": "stdout"
        }
      ]
    },
    {
      "cell_type": "code",
      "metadata": {
        "id": "y9E9khoTd_F2",
        "colab_type": "code",
        "outputId": "fa34bf6e-a476-44a7-f09c-83565cf9d5b7",
        "colab": {
          "base_uri": "https://localhost:8080/",
          "height": 85
        }
      },
      "source": [
        "shoplist=['牛奶','蛋','咖啡豆','西瓜','鳳梨']\n",
        "print('購物清單shoplist為')\n",
        "print(shoplist)\n",
        "\n",
        "listm=[1,2.0,'Python']\n",
        "print(\"串列可以包含各種資料型別的元素\")\n",
        "print(listm)"
      ],
      "execution_count": 0,
      "outputs": [
        {
          "output_type": "stream",
          "text": [
            "購物清單shoplist為\n",
            "['牛奶', '蛋', '咖啡豆', '西瓜', '鳳梨']\n",
            "串列可以包含各種資料型別的元素\n",
            "[1, 2.0, 'Python']\n"
          ],
          "name": "stdout"
        }
      ]
    },
    {
      "cell_type": "code",
      "metadata": {
        "id": "rI2P5gY8e7kG",
        "colab_type": "code",
        "outputId": "86caccea-b9ff-43f8-82ab-123f0861bc3a",
        "colab": {
          "base_uri": "https://localhost:8080/",
          "height": 34
        }
      },
      "source": [
        "tuple2=('a','b',1,2)\n",
        "list2=list(tuple2)\n",
        "print(list2)"
      ],
      "execution_count": 0,
      "outputs": [
        {
          "output_type": "stream",
          "text": [
            "['a', 'b', 1, 2]\n"
          ],
          "name": "stdout"
        }
      ]
    },
    {
      "cell_type": "code",
      "metadata": {
        "id": "w7h_-KUifQgj",
        "colab_type": "code",
        "colab": {
          "base_uri": "https://localhost:8080/",
          "height": 34
        },
        "outputId": "5ef6716b-2e75-4977-bd5d-9f26aa4df14d"
      },
      "source": [
        "shoplist1=['牛奶','蛋','咖啡豆']\n",
        "shoplist2=['西瓜','鳳梨']\n",
        "shoplist_all=shoplist1+shoplist2\n",
        "print(shoplist_all)"
      ],
      "execution_count": 2,
      "outputs": [
        {
          "output_type": "stream",
          "text": [
            "['牛奶', '蛋', '咖啡豆', '西瓜', '鳳梨']\n"
          ],
          "name": "stdout"
        }
      ]
    },
    {
      "cell_type": "code",
      "metadata": {
        "id": "-wOCrDHEfIT0",
        "colab_type": "code",
        "colab": {
          "base_uri": "https://localhost:8080/",
          "height": 34
        },
        "outputId": "2fb75625-c211-4eb7-ede7-eb1d43e4b5e4"
      },
      "source": [
        "shoplist=['牛奶','蛋','咖啡豆','西瓜','鳳梨']\n",
        "print('顯示shoplist[0]為',shoplist[0])"
      ],
      "execution_count": 3,
      "outputs": [
        {
          "output_type": "stream",
          "text": [
            "顯示shoplist[0]為 牛奶\n"
          ],
          "name": "stdout"
        }
      ]
    },
    {
      "cell_type": "code",
      "metadata": {
        "id": "DBfMGt7Bfh4L",
        "colab_type": "code",
        "colab": {
          "base_uri": "https://localhost:8080/",
          "height": 51
        },
        "outputId": "8ff81ce1-ecbc-4df1-8007-6f90137cee75"
      },
      "source": [
        "shoplist=['牛奶','蛋','咖啡豆','西瓜','鳳梨']\n",
        "\n",
        "shoplist[1]='皮蛋'\n",
        "print(\"執行shoplist[1]='皮蛋'後\")\n",
        "print(shoplist)"
      ],
      "execution_count": 4,
      "outputs": [
        {
          "output_type": "stream",
          "text": [
            "執行shoplist[1]='皮蛋'後\n",
            "['牛奶', '皮蛋', '咖啡豆', '西瓜', '鳳梨']\n"
          ],
          "name": "stdout"
        }
      ]
    },
    {
      "cell_type": "code",
      "metadata": {
        "id": "0MKX5rSpjGMZ",
        "colab_type": "code",
        "colab": {
          "base_uri": "https://localhost:8080/",
          "height": 187
        },
        "outputId": "1efc5a8b-cca8-42f1-8a8b-2d52d3cd8bc8"
      },
      "source": [
        "shoplist=['牛奶','蛋','咖啡豆','西瓜','鳳梨']\n",
        "\n",
        "a=list('abcdefghijk')\n",
        "print('a[:]為',a[:])\n",
        "print('a[:5]為',a[:5])\n",
        "print('a[5:]為',a[5:])\n",
        "print('a[:-5]為',a[:-5])\n",
        "print('a[-5:]為',a[-5:])\n",
        "\n",
        "print('a[0:4]為',a[0:4])\n",
        "print('a[-5:-3]為',a[-5:-3])\n",
        "\n",
        "print('a[1:10:3]為',a[1:10:3])\n",
        "print('a[-1:-4:-1]為',a[-1:-4:-1])\n",
        "print('a[::-1]為',a[::-1])"
      ],
      "execution_count": 5,
      "outputs": [
        {
          "output_type": "stream",
          "text": [
            "a[:]為 ['a', 'b', 'c', 'd', 'e', 'f', 'g', 'h', 'i', 'j', 'k']\n",
            "a[:5]為 ['a', 'b', 'c', 'd', 'e']\n",
            "a[5:]為 ['f', 'g', 'h', 'i', 'j', 'k']\n",
            "a[:-5]為 ['a', 'b', 'c', 'd', 'e', 'f']\n",
            "a[-5:]為 ['g', 'h', 'i', 'j', 'k']\n",
            "a[0:4]為 ['a', 'b', 'c', 'd']\n",
            "a[-5:-3]為 ['g', 'h']\n",
            "a[1:10:3]為 ['b', 'e', 'h']\n",
            "a[-1:-4:-1]為 ['k', 'j', 'i']\n",
            "a[::-1]為 ['k', 'j', 'i', 'h', 'g', 'f', 'e', 'd', 'c', 'b', 'a']\n"
          ],
          "name": "stdout"
        }
      ]
    },
    {
      "cell_type": "code",
      "metadata": {
        "id": "rsVVRhSPkuky",
        "colab_type": "code",
        "colab": {
          "base_uri": "https://localhost:8080/",
          "height": 34
        },
        "outputId": "e20f79b7-52d3-44cb-ad91-533a3197f99c"
      },
      "source": [
        "shoplist=['牛奶','蛋','咖啡豆','西瓜','鳳梨']\n",
        "print('購物清單shoplist的長度為',len(shoplist))"
      ],
      "execution_count": 6,
      "outputs": [
        {
          "output_type": "stream",
          "text": [
            "購物清單shoplist的長度為 5\n"
          ],
          "name": "stdout"
        }
      ]
    },
    {
      "cell_type": "code",
      "metadata": {
        "id": "JeiK-4nBlB9a",
        "colab_type": "code",
        "colab": {
          "base_uri": "https://localhost:8080/",
          "height": 51
        },
        "outputId": "0cab1bbc-f621-4e68-ac1f-0f34617cb3db"
      },
      "source": [
        "shoplist=['牛奶','蛋','咖啡豆','西瓜','鳳梨']\n",
        "\n",
        "shoplist.append('麵包')\n",
        "print(\"執行shoplist.append('麵包')後\")\n",
        "print(shoplist)"
      ],
      "execution_count": 7,
      "outputs": [
        {
          "output_type": "stream",
          "text": [
            "執行shoplist.append('麵包')後\n",
            "['牛奶', '蛋', '咖啡豆', '西瓜', '鳳梨', '麵包']\n"
          ],
          "name": "stdout"
        }
      ]
    },
    {
      "cell_type": "code",
      "metadata": {
        "id": "kJM9eT6flWRR",
        "colab_type": "code",
        "colab": {
          "base_uri": "https://localhost:8080/",
          "height": 51
        },
        "outputId": "40529219-cb1a-4b94-8fa0-ea24ece4eefe"
      },
      "source": [
        "shoplist=['牛奶','蛋','咖啡豆','西瓜','鳳梨']\n",
        "\n",
        "shoplist.insert(4,'蘋果')\n",
        "print(\"執行shoplist.insert(4,'蘋果')後\")\n",
        "print(shoplist)"
      ],
      "execution_count": 9,
      "outputs": [
        {
          "output_type": "stream",
          "text": [
            "執行shoplist.insert(4,'蘋果')後\n",
            "['牛奶', '蛋', '咖啡豆', '西瓜', '蘋果', '鳳梨']\n"
          ],
          "name": "stdout"
        }
      ]
    },
    {
      "cell_type": "code",
      "metadata": {
        "id": "F5_Ixh8Alwdc",
        "colab_type": "code",
        "colab": {
          "base_uri": "https://localhost:8080/",
          "height": 51
        },
        "outputId": "3a6cddf6-ca57-4d52-e597-220d14f27780"
      },
      "source": [
        "shoplist=['牛奶','蛋','咖啡豆','西瓜','鳳梨']\n",
        "\n",
        "shoplist.remove('蛋')\n",
        "print(\"執行shoplist.remove('蛋')後\")\n",
        "print(shoplist)"
      ],
      "execution_count": 10,
      "outputs": [
        {
          "output_type": "stream",
          "text": [
            "執行shoplist.remove('蛋')後\n",
            "['牛奶', '咖啡豆', '西瓜', '鳳梨']\n"
          ],
          "name": "stdout"
        }
      ]
    },
    {
      "cell_type": "code",
      "metadata": {
        "id": "zeKgvhrvmE1r",
        "colab_type": "code",
        "colab": {
          "base_uri": "https://localhost:8080/",
          "height": 119
        },
        "outputId": "46f290bc-6cc1-474c-ef30-cb33ef437adc"
      },
      "source": [
        "shoplist=['牛奶','蛋','咖啡豆','西瓜','鳳梨']\n",
        "\n",
        "shoplist.pop(0)\n",
        "print(\"執行shoplist.pop(0)後\")\n",
        "print(shoplist)\n",
        "\n",
        "shoplist.pop()\n",
        "print(\"執行shoplist.pop()後\")\n",
        "print(shoplist)\n",
        "\n",
        "shoplist.pop(-1)\n",
        "print(\"執行shoplist.pop(-1)後\")\n",
        "print(shoplist)"
      ],
      "execution_count": 11,
      "outputs": [
        {
          "output_type": "stream",
          "text": [
            "執行shoplist.pop(0)後\n",
            "['蛋', '咖啡豆', '西瓜', '鳳梨']\n",
            "執行shoplist.pop()後\n",
            "['蛋', '咖啡豆', '西瓜']\n",
            "執行shoplist.pop(-1)後\n",
            "['蛋', '咖啡豆']\n"
          ],
          "name": "stdout"
        }
      ]
    },
    {
      "cell_type": "code",
      "metadata": {
        "id": "SYT1AYHwmiQB",
        "colab_type": "code",
        "colab": {
          "base_uri": "https://localhost:8080/",
          "height": 119
        },
        "outputId": "3d31275b-e2d3-4a18-d6c7-27a8d3c51a8c"
      },
      "source": [
        "shoplist=['牛奶','蛋','咖啡豆','西瓜','鳳梨']\n",
        "\n",
        "shoplist.sort()\n",
        "print(\"執行shoplist.sort()後\")\n",
        "print(shoplist)\n",
        "\n",
        "shoplist=['milk','egg','coffee','watermelon']\n",
        "shoplist.sort()\n",
        "print(\"執行shoplist.sort()後\")\n",
        "print(shoplist)\n",
        "\n",
        "shoplist.sort(reverse=True)\n",
        "print(\"執行shoplist.sort(reverse=True)後\")\n",
        "print(shoplist)"
      ],
      "execution_count": 12,
      "outputs": [
        {
          "output_type": "stream",
          "text": [
            "執行shoplist.sort()後\n",
            "['咖啡豆', '牛奶', '蛋', '西瓜', '鳳梨']\n",
            "執行shoplist.sort()後\n",
            "['coffee', 'egg', 'milk', 'watermelon']\n",
            "執行shoplist.sort(reverse=True)後\n",
            "['watermelon', 'milk', 'egg', 'coffee']\n"
          ],
          "name": "stdout"
        }
      ]
    },
    {
      "cell_type": "code",
      "metadata": {
        "id": "GUu1214IndI9",
        "colab_type": "code",
        "colab": {
          "base_uri": "https://localhost:8080/",
          "height": 119
        },
        "outputId": "61a23b0b-d043-45a6-bcba-58f6521a30b3"
      },
      "source": [
        "list1=[1,2,3,4]\n",
        "list2=list1\n",
        "print('list1=',list1)\n",
        "print('list2=',list2)\n",
        "\n",
        "list1[2]=19\n",
        "print('list1=',list1)\n",
        "print('list2=',list2)\n",
        "\n",
        "list2[2]=18\n",
        "print('list1=',list1)\n",
        "print('list2=',list2)"
      ],
      "execution_count": 15,
      "outputs": [
        {
          "output_type": "stream",
          "text": [
            "list1= [1, 2, 3, 4]\n",
            "list2= [1, 2, 3, 4]\n",
            "list1= [1, 2, 19, 4]\n",
            "list2= [1, 2, 19, 4]\n",
            "list1= [1, 2, 18, 4]\n",
            "list2= [1, 2, 18, 4]\n"
          ],
          "name": "stdout"
        }
      ]
    },
    {
      "cell_type": "code",
      "metadata": {
        "id": "guZKpmVboMiU",
        "colab_type": "code",
        "colab": {
          "base_uri": "https://localhost:8080/",
          "height": 85
        },
        "outputId": "c7aff8aa-4293-44c2-f2e7-36b7016879e3"
      },
      "source": [
        "list1=[1,2,3,4]\n",
        "list4=list1.copy()\n",
        "print('list1=',list1)\n",
        "print('list4=',list4)\n",
        "\n",
        "list4[2]=19\n",
        "print('list1=',list1)\n",
        "print('list4=',list4)"
      ],
      "execution_count": 16,
      "outputs": [
        {
          "output_type": "stream",
          "text": [
            "list1= [1, 2, 3, 4]\n",
            "list4= [1, 2, 3, 4]\n",
            "list1= [1, 2, 3, 4]\n",
            "list4= [1, 2, 19, 4]\n"
          ],
          "name": "stdout"
        }
      ]
    },
    {
      "cell_type": "code",
      "metadata": {
        "id": "oc03MG0vpcin",
        "colab_type": "code",
        "colab": {
          "base_uri": "https://localhost:8080/",
          "height": 496
        },
        "outputId": "e5a8fa46-9049-4781-cd35-dc850922a188"
      },
      "source": [
        "season=\"1995-1996\"\n",
        "team=\"Chicago Bulls\"\n",
        "coach=\"Phil Jackson\"\n",
        "\n",
        "won_championship=True\n",
        "\n",
        "records=[72,10]\n",
        "starting_lineup=[\"Ron Harper\",\"Michael Jordan\",\"Scottie Pippen\",\"Dennis Rodman\",\"Luc Longley\"]\n",
        "\n",
        "best_chicago_bulls=[season,team,coach,won_championship,records,starting_lineup]\n",
        "print(best_chicago_bulls)\n",
        "print(type(best_chicago_bulls))\n",
        "\n",
        "print(len(best_chicago_bulls))\n",
        "\n",
        "print(best_chicago_bulls[0])\n",
        "print(best_chicago_bulls[1])\n",
        "print(best_chicago_bulls[2])\n",
        "print(best_chicago_bulls[3])\n",
        "print(best_chicago_bulls[4])\n",
        "print(best_chicago_bulls[5])\n",
        "\n",
        "print(best_chicago_bulls[-1])\n",
        "print(best_chicago_bulls[-2])\n",
        "print(best_chicago_bulls[-3])\n",
        "print(best_chicago_bulls[-4])\n",
        "print(best_chicago_bulls[-5])\n",
        "print(best_chicago_bulls[-6])\n",
        "\n",
        "print(best_chicago_bulls[0:3])\n",
        "print(best_chicago_bulls[::2])\n",
        "print(best_chicago_bulls[::-1])\n",
        "\n",
        "best_chicago_bulls[5].append(\"Toni Kukoc\")\n",
        "print(best_chicago_bulls[5])\n",
        "\n",
        "best_chicago_bulls[5].insert(6,\"Toni Kukoc\")\n",
        "print(best_chicago_bulls[5])\n",
        "\n",
        "center=best_chicago_bulls[5].pop()\n",
        "print(center)\n",
        "print(best_chicago_bulls[5])\n",
        "\n",
        "best_chicago_bulls=[season,team,coach,won_championship,records,starting_lineup]\n",
        "\n",
        "del best_chicago_bulls[5][0]\n",
        "print(best_chicago_bulls[5])\n",
        "\n",
        "best_chicago_bulls=[season,team,coach,won_championship,records,starting_lineup]\n",
        "\n",
        "best_chicago_bulls[4].sort()\n",
        "print(best_chicago_bulls[4])\n",
        "\n",
        "best_chicago_bulls[4].sort(reverse=True)\n",
        "print(best_chicago_bulls[4])\n",
        "\n",
        "best_chicago_bulls[5].sort()\n",
        "print(best_chicago_bulls[5])\n",
        "\n",
        "best_chicago_bulls[5].sort(reverse=True)\n",
        "print(best_chicago_bulls[5])"
      ],
      "execution_count": 18,
      "outputs": [
        {
          "output_type": "stream",
          "text": [
            "['1995-1996', 'Chicago Bulls', 'Phil Jackson', True, [72, 10], ['Ron Harper', 'Michael Jordan', 'Scottie Pippen', 'Dennis Rodman', 'Luc Longley']]\n",
            "<class 'list'>\n",
            "6\n",
            "1995-1996\n",
            "Chicago Bulls\n",
            "Phil Jackson\n",
            "True\n",
            "[72, 10]\n",
            "['Ron Harper', 'Michael Jordan', 'Scottie Pippen', 'Dennis Rodman', 'Luc Longley']\n",
            "['Ron Harper', 'Michael Jordan', 'Scottie Pippen', 'Dennis Rodman', 'Luc Longley']\n",
            "[72, 10]\n",
            "True\n",
            "Phil Jackson\n",
            "Chicago Bulls\n",
            "1995-1996\n",
            "['1995-1996', 'Chicago Bulls', 'Phil Jackson']\n",
            "['1995-1996', 'Phil Jackson', [72, 10]]\n",
            "[['Ron Harper', 'Michael Jordan', 'Scottie Pippen', 'Dennis Rodman', 'Luc Longley'], [72, 10], True, 'Phil Jackson', 'Chicago Bulls', '1995-1996']\n",
            "['Ron Harper', 'Michael Jordan', 'Scottie Pippen', 'Dennis Rodman', 'Luc Longley', 'Toni Kukoc']\n",
            "['Ron Harper', 'Michael Jordan', 'Scottie Pippen', 'Dennis Rodman', 'Luc Longley', 'Toni Kukoc', 'Toni Kukoc']\n",
            "Toni Kukoc\n",
            "['Ron Harper', 'Michael Jordan', 'Scottie Pippen', 'Dennis Rodman', 'Luc Longley', 'Toni Kukoc']\n",
            "['Michael Jordan', 'Scottie Pippen', 'Dennis Rodman', 'Luc Longley', 'Toni Kukoc']\n",
            "[10, 72]\n",
            "[72, 10]\n",
            "['Dennis Rodman', 'Luc Longley', 'Michael Jordan', 'Scottie Pippen', 'Toni Kukoc']\n",
            "['Toni Kukoc', 'Scottie Pippen', 'Michael Jordan', 'Luc Longley', 'Dennis Rodman']\n"
          ],
          "name": "stdout"
        }
      ]
    },
    {
      "cell_type": "code",
      "metadata": {
        "id": "nUHRRf0Os7o8",
        "colab_type": "code",
        "colab": {
          "base_uri": "https://localhost:8080/",
          "height": 51
        },
        "outputId": "286b8a87-7a78-47d4-83df-22978a666d01"
      },
      "source": [
        "dict1={}\n",
        "print(dict1)\n",
        "\n",
        "lang={'早安':'Good Morning','你好':'Hello'}\n",
        "print(lang)"
      ],
      "execution_count": 19,
      "outputs": [
        {
          "output_type": "stream",
          "text": [
            "{}\n",
            "{'早安': 'Good Morning', '你好': 'Hello'}\n"
          ],
          "name": "stdout"
        }
      ]
    },
    {
      "cell_type": "code",
      "metadata": {
        "id": "D8GV7sNcuOeK",
        "colab_type": "code",
        "colab": {
          "base_uri": "https://localhost:8080/",
          "height": 85
        },
        "outputId": "2b36b0a3-127d-47df-d8d4-9a0f668d889e"
      },
      "source": [
        "a=[['早安','Good Morning'],['你好','Hello']]\n",
        "dict1=dict(a)\n",
        "print(dict1)\n",
        "\n",
        "b=[('早安','Good Morning'),('你好','Hello')]\n",
        "dict2=dict(b)\n",
        "print(dict2)\n",
        "\n",
        "c=(['早安','Good Morning'],['你好','Hello'])\n",
        "dict3=dict(c)\n",
        "print(dict3)\n",
        "\n",
        "d=(('早安','Good Morning'),('你好','Hello'))\n",
        "dict4=dict(d)\n",
        "print(dict4)"
      ],
      "execution_count": 20,
      "outputs": [
        {
          "output_type": "stream",
          "text": [
            "{'早安': 'Good Morning', '你好': 'Hello'}\n",
            "{'早安': 'Good Morning', '你好': 'Hello'}\n",
            "{'早安': 'Good Morning', '你好': 'Hello'}\n",
            "{'早安': 'Good Morning', '你好': 'Hello'}\n"
          ],
          "name": "stdout"
        }
      ]
    },
    {
      "cell_type": "code",
      "metadata": {
        "id": "yf0XUAOhvA-F",
        "colab_type": "code",
        "colab": {
          "base_uri": "https://localhost:8080/",
          "height": 34
        },
        "outputId": "2d4e5889-8e26-4c87-e04d-66cd6c468186"
      },
      "source": [
        "lang={'早安':'Good Morning','你好':'Hello'}\n",
        "print('「你好」的英文為',lang['你好'])"
      ],
      "execution_count": 21,
      "outputs": [
        {
          "output_type": "stream",
          "text": [
            "「你好」的英文為 Hello\n"
          ],
          "name": "stdout"
        }
      ]
    },
    {
      "cell_type": "code",
      "metadata": {
        "id": "j7TQFJn9vR9W",
        "colab_type": "code",
        "colab": {
          "base_uri": "https://localhost:8080/",
          "height": 165
        },
        "outputId": "2885de52-0fad-4665-cf23-fa3ffae311ec"
      },
      "source": [
        "print('「你好嗎」的英文為',lang['你好嗎'])"
      ],
      "execution_count": 22,
      "outputs": [
        {
          "output_type": "error",
          "ename": "KeyError",
          "evalue": "ignored",
          "traceback": [
            "\u001b[0;31m---------------------------------------------------------------------------\u001b[0m",
            "\u001b[0;31mKeyError\u001b[0m                                  Traceback (most recent call last)",
            "\u001b[0;32m<ipython-input-22-b70232786b87>\u001b[0m in \u001b[0;36m<module>\u001b[0;34m()\u001b[0m\n\u001b[0;32m----> 1\u001b[0;31m \u001b[0mprint\u001b[0m\u001b[0;34m(\u001b[0m\u001b[0;34m'「你好嗎」的英文為'\u001b[0m\u001b[0;34m,\u001b[0m\u001b[0mlang\u001b[0m\u001b[0;34m[\u001b[0m\u001b[0;34m'你好嗎'\u001b[0m\u001b[0;34m]\u001b[0m\u001b[0;34m)\u001b[0m\u001b[0;34m\u001b[0m\u001b[0;34m\u001b[0m\u001b[0m\n\u001b[0m",
            "\u001b[0;31mKeyError\u001b[0m: '你好嗎'"
          ]
        }
      ]
    },
    {
      "cell_type": "code",
      "metadata": {
        "id": "09g91z7zvpAZ",
        "colab_type": "code",
        "colab": {
          "base_uri": "https://localhost:8080/",
          "height": 51
        },
        "outputId": "32995ecc-233d-4b50-9018-d04f9020f118"
      },
      "source": [
        "lang={'早安':'Good Morning','你好':'Hello'}\n",
        "\n",
        "lang['你好']='Hi'\n",
        "print(lang)\n",
        "\n",
        "lang['學生']='Student'\n",
        "print(lang)"
      ],
      "execution_count": 24,
      "outputs": [
        {
          "output_type": "stream",
          "text": [
            "{'早安': 'Good Morning', '你好': 'Hi'}\n",
            "{'早安': 'Good Morning', '你好': 'Hi', '學生': 'Student'}\n"
          ],
          "name": "stdout"
        }
      ]
    },
    {
      "cell_type": "code",
      "metadata": {
        "id": "3LWOPEzhwTmp",
        "colab_type": "code",
        "colab": {
          "base_uri": "https://localhost:8080/",
          "height": 34
        },
        "outputId": "06d1558f-6c5e-4256-a2f8-e47a114d4ec2"
      },
      "source": [
        "lang={'早安':'Good Morning','你好':'Hello'}\n",
        "del lang['早安']\n",
        "print(lang)"
      ],
      "execution_count": 25,
      "outputs": [
        {
          "output_type": "stream",
          "text": [
            "{'你好': 'Hello'}\n"
          ],
          "name": "stdout"
        }
      ]
    },
    {
      "cell_type": "code",
      "metadata": {
        "id": "afZ3sfzPwocW",
        "colab_type": "code",
        "colab": {
          "base_uri": "https://localhost:8080/",
          "height": 51
        },
        "outputId": "473a9406-a373-4cd0-bf65-1294f451c511"
      },
      "source": [
        "lang1={'早安':'Good Morning','你好':'Hello'}\n",
        "lang3=lang1.copy()\n",
        "lang3['你好']='Hi'\n",
        "\n",
        "print('lang1為',lang1)\n",
        "print('lang3為',lang3)"
      ],
      "execution_count": 26,
      "outputs": [
        {
          "output_type": "stream",
          "text": [
            "lang1為 {'早安': 'Good Morning', '你好': 'Hello'}\n",
            "lang3為 {'早安': 'Good Morning', '你好': 'Hi'}\n"
          ],
          "name": "stdout"
        }
      ]
    },
    {
      "cell_type": "code",
      "metadata": {
        "id": "VAJuvOUCxLl_",
        "colab_type": "code",
        "colab": {
          "base_uri": "https://localhost:8080/",
          "height": 102
        },
        "outputId": "aafe995c-f9f6-451f-f7e2-1222ae509a23"
      },
      "source": [
        "s={1,2,3,4}\n",
        "print(s)\n",
        "\n",
        "s=set(('a',1,'b',2))\n",
        "print(s)\n",
        "\n",
        "s=set(['apple','banana','apple'])\n",
        "print(s)\n",
        "\n",
        "s=set({'早安':'Good Morning','你好':'Hello'})\n",
        "print(s)\n",
        "\n",
        "s=set('racecar')\n",
        "print(s)"
      ],
      "execution_count": 30,
      "outputs": [
        {
          "output_type": "stream",
          "text": [
            "{1, 2, 3, 4}\n",
            "{1, 2, 'a', 'b'}\n",
            "{'banana', 'apple'}\n",
            "{'你好', '早安'}\n",
            "{'c', 'a', 'e', 'r'}\n"
          ],
          "name": "stdout"
        }
      ]
    },
    {
      "cell_type": "code",
      "metadata": {
        "id": "UXn8OEYKx53i",
        "colab_type": "code",
        "colab": {
          "base_uri": "https://localhost:8080/",
          "height": 68
        },
        "outputId": "09898a2e-4903-49d4-fa45-bc1bea9e7e8d"
      },
      "source": [
        "s=set('tiger')\n",
        "print(s)\n",
        "\n",
        "s.add('z')\n",
        "print(s)\n",
        "\n",
        "s.remove('t')\n",
        "print(s)"
      ],
      "execution_count": 31,
      "outputs": [
        {
          "output_type": "stream",
          "text": [
            "{'e', 'g', 't', 'i', 'r'}\n",
            "{'e', 'g', 't', 'z', 'i', 'r'}\n",
            "{'e', 'g', 'z', 'i', 'r'}\n"
          ],
          "name": "stdout"
        }
      ]
    },
    {
      "cell_type": "code",
      "metadata": {
        "id": "vymN6VBwypOm",
        "colab_type": "code",
        "colab": {
          "base_uri": "https://localhost:8080/",
          "height": 102
        },
        "outputId": "a547f52f-83a8-4275-d553-185e6eebba41"
      },
      "source": [
        "a=set('tiger')\n",
        "b=set('bear')\n",
        "print(a)\n",
        "print(b)\n",
        "\n",
        "print(a|b)\n",
        "print(a&b)\n",
        "print(a-b)"
      ],
      "execution_count": 34,
      "outputs": [
        {
          "output_type": "stream",
          "text": [
            "{'e', 'g', 't', 'i', 'r'}\n",
            "{'e', 'a', 'r', 'b'}\n",
            "{'e', 'g', 'a', 't', 'i', 'r', 'b'}\n",
            "{'e', 'r'}\n",
            "{'i', 'g', 't'}\n"
          ],
          "name": "stdout"
        }
      ]
    },
    {
      "cell_type": "code",
      "metadata": {
        "id": "RrjbmzrlzW0M",
        "colab_type": "code",
        "colab": {
          "base_uri": "https://localhost:8080/",
          "height": 51
        },
        "outputId": "af9757a4-be73-4a36-b836-67fdc9cd79ad"
      },
      "source": [
        "a=set('tiger')\n",
        "b=set('tigers')\n",
        "print(a<=b)\n",
        "\n",
        "a=set('tiger')\n",
        "b=set('tigers')\n",
        "print(a<b)"
      ],
      "execution_count": 35,
      "outputs": [
        {
          "output_type": "stream",
          "text": [
            "True\n",
            "True\n"
          ],
          "name": "stdout"
        }
      ]
    },
    {
      "cell_type": "code",
      "metadata": {
        "id": "2G3hrwTJ0MJ_",
        "colab_type": "code",
        "colab": {}
      },
      "source": [
        ""
      ],
      "execution_count": 0,
      "outputs": []
    }
  ]
}