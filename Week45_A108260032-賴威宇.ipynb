{
  "nbformat": 4,
  "nbformat_minor": 0,
  "metadata": {
    "colab": {
      "name": "Copy of Week45-A108260032-賴威宇.ipynb",
      "provenance": [],
      "collapsed_sections": [],
      "include_colab_link": true
    },
    "kernelspec": {
      "name": "python3",
      "display_name": "Python 3"
    }
  },
  "cells": [
    {
      "cell_type": "markdown",
      "metadata": {
        "id": "view-in-github",
        "colab_type": "text"
      },
      "source": [
        "<a href=\"https://colab.research.google.com/github/weiaaaa/Computational-Thinking-and-Programming-Design/blob/master/Week45_A108260032-%E8%B3%B4%E5%A8%81%E5%AE%87.ipynb\" target=\"_parent\"><img src=\"https://colab.research.google.com/assets/colab-badge.svg\" alt=\"Open In Colab\"/></a>"
      ]
    },
    {
      "cell_type": "code",
      "metadata": {
        "id": "mwWxZcwnHq9B",
        "colab_type": "code",
        "outputId": "ca29313e-39d6-492a-e1b9-24f198253ce7",
        "colab": {
          "base_uri": "https://localhost:8080/",
          "height": 51
        }
      },
      "source": [
        "name=input('請問貴姓大名?')\n",
        "print('你好，',name)"
      ],
      "execution_count": 0,
      "outputs": [
        {
          "output_type": "stream",
          "text": [
            "請問貴姓大名?賴威宇\n",
            "你好， 賴威宇\n"
          ],
          "name": "stdout"
        }
      ]
    },
    {
      "cell_type": "code",
      "metadata": {
        "id": "ida2LE_DNrua",
        "colab_type": "code",
        "outputId": "8f958383-6678-4780-b4ce-39a64702a573",
        "colab": {
          "base_uri": "https://localhost:8080/",
          "height": 51
        }
      },
      "source": [
        "y=int(input('請問年紀?'))\n",
        "print('原來你',y,'歲')"
      ],
      "execution_count": 0,
      "outputs": [
        {
          "output_type": "stream",
          "text": [
            "請問年紀?18\n",
            "原來你 18 歲\n"
          ],
          "name": "stdout"
        }
      ]
    },
    {
      "cell_type": "code",
      "metadata": {
        "id": "Xke3l3KfOFWy",
        "colab_type": "code",
        "outputId": "f54aec78-6575-4838-c0d5-dd4aa784192a",
        "colab": {
          "base_uri": "https://localhost:8080/",
          "height": 51
        }
      },
      "source": [
        "w=float(input('請問體重?'))\n",
        "print('體重為',w)"
      ],
      "execution_count": 0,
      "outputs": [
        {
          "output_type": "stream",
          "text": [
            "請問體重?75\n",
            "體重為 75.0\n"
          ],
          "name": "stdout"
        }
      ]
    },
    {
      "cell_type": "code",
      "metadata": {
        "id": "CZ1E3IeIOiu0",
        "colab_type": "code",
        "outputId": "7a5d608f-a26b-460b-bd1e-bebe705b8f54",
        "colab": {
          "base_uri": "https://localhost:8080/",
          "height": 85
        }
      },
      "source": [
        "上衣=int(input('請輸入上衣數量?'))\n",
        "褲子=int(input('請輸入褲子數量?'))\n",
        "背心=int(input('請輸入背心數量?'))\n",
        "\n",
        "總金額=上衣*300+褲子*350+背心*400\n",
        "print('訂購服裝的總金額為',總金額)"
      ],
      "execution_count": 0,
      "outputs": [
        {
          "output_type": "stream",
          "text": [
            "請輸入上衣數量?5\n",
            "請輸入褲子數量?4\n",
            "請輸入背心數量?2\n",
            "訂購服裝的總金額為 3700\n"
          ],
          "name": "stdout"
        }
      ]
    },
    {
      "cell_type": "code",
      "metadata": {
        "id": "vlj_6t5bP2Sn",
        "colab_type": "code",
        "outputId": "a4ec5db2-543e-4b63-b612-86e97ec9739a",
        "colab": {
          "base_uri": "https://localhost:8080/",
          "height": 51
        }
      },
      "source": [
        "半徑=float(input('請輸入半徑?'))\n",
        "PI=3.14159\n",
        "\n",
        "圓周長=2*PI*半徑\n",
        "圓面積=半徑*半徑*PI\n",
        "\n",
        "print('圓周長為',圓周長,'圓面積為',圓面積)"
      ],
      "execution_count": 0,
      "outputs": [
        {
          "output_type": "stream",
          "text": [
            "請輸入半徑?87\n",
            "圓周長為 546.63666 圓面積為 23778.69471\n"
          ],
          "name": "stdout"
        }
      ]
    },
    {
      "cell_type": "code",
      "metadata": {
        "id": "aBHuS1YwRLuA",
        "colab_type": "code",
        "outputId": "fd2538b4-da62-4b93-f0a2-e927d7c67693",
        "colab": {
          "base_uri": "https://localhost:8080/",
          "height": 51
        }
      },
      "source": [
        "c=float(input('請輸入攝氏溫度'))\n",
        "\n",
        "f=c*9/5+32\n",
        "\n",
        "print('華氏溫度為',f)"
      ],
      "execution_count": 0,
      "outputs": [
        {
          "output_type": "stream",
          "text": [
            "請輸入攝氏溫度100\n",
            "華氏溫度為 212.0\n"
          ],
          "name": "stdout"
        }
      ]
    },
    {
      "cell_type": "code",
      "metadata": {
        "id": "_gHV5dv2SO7q",
        "colab_type": "code",
        "outputId": "afec324b-527a-44ba-df6e-672bfab04622",
        "colab": {
          "base_uri": "https://localhost:8080/",
          "height": 85
        }
      },
      "source": [
        "第一次期中考成績=int(input('請輸入第一次期中考成績?'))\n",
        "第二次期中考成績=int(input('請輸入第二次期中考成績?'))\n",
        "期末考成績=int(input('請輸入期末考成績?'))\n",
        "\n",
        "總分為=(第一次期中考成績+第二次期中考成績+期末考成績)\n",
        "平均為=(第一次期中考成績+第二次期中考成績+期末考成績)/3\n",
        "\n",
        "print('總分為',總分為,'平均為',平均為)"
      ],
      "execution_count": 0,
      "outputs": [
        {
          "output_type": "stream",
          "text": [
            "請輸入第一次期中考成績?95\n",
            "請輸入第二次期中考成績?85\n",
            "請輸入期末考成績?70\n",
            "總分為 250 平均為 83.33333333333333\n"
          ],
          "name": "stdout"
        }
      ]
    },
    {
      "cell_type": "code",
      "metadata": {
        "id": "2jK6LxZKU4Uo",
        "colab_type": "code",
        "outputId": "c1c52ab1-9e4b-4eb6-9aa8-43b049aaa0d3",
        "colab": {
          "base_uri": "https://localhost:8080/",
          "height": 68
        }
      },
      "source": [
        "尺=float(input('請輸入幾尺?'))\n",
        "吋=float(input('請輸入幾吋?'))\n",
        "\n",
        "公分=(尺*12+吋)*2.54\n",
        "\n",
        "print('轉換為',公分,'公分')"
      ],
      "execution_count": 0,
      "outputs": [
        {
          "output_type": "stream",
          "text": [
            "請輸入幾尺?10\n",
            "請輸入幾吋?8\n",
            "轉換為 325.12 公分\n"
          ],
          "name": "stdout"
        }
      ]
    },
    {
      "cell_type": "code",
      "metadata": {
        "id": "Ozo9gHylaXwA",
        "colab_type": "code",
        "outputId": "0dac9dc2-08f1-404c-fb47-3b64684e58da",
        "colab": {
          "base_uri": "https://localhost:8080/",
          "height": 51
        }
      },
      "source": [
        "m=int(input('請輸入座號?'))\n",
        "組別=m//5+1\n",
        "print('組別為',組別)"
      ],
      "execution_count": 0,
      "outputs": [
        {
          "output_type": "stream",
          "text": [
            "請輸入座號?13\n",
            "組別為 3\n"
          ],
          "name": "stdout"
        }
      ]
    },
    {
      "cell_type": "code",
      "metadata": {
        "id": "Fmj4YtwEc9q8",
        "colab_type": "code",
        "colab": {}
      },
      "source": [
        ""
      ],
      "execution_count": 0,
      "outputs": []
    }
  ]
}